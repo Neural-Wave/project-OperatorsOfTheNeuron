{
 "cells": [
  {
   "cell_type": "code",
   "execution_count": 78,
   "metadata": {},
   "outputs": [],
   "source": [
    "import torch\n",
    "from dagma import utils\n",
    "from dagma.linear import DagmaLinear\n",
    "from dagma.nonlinear import DagmaMLP, DagmaNonlinear\n",
    "import pandas as pd\n",
    "import networkx as nx\n",
    "from pywhy_graphs.viz import draw\n",
    "import numpy as np"
   ]
  },
  {
   "cell_type": "code",
   "execution_count": 79,
   "metadata": {},
   "outputs": [],
   "source": [
    "from causallearn.graph.GraphNode import GraphNode\n",
    "from causallearn.search.ConstraintBased.PC import pc\n",
    "from causallearn.utils.PCUtils.BackgroundKnowledge import BackgroundKnowledge\n",
    "from causallearn.search.ConstraintBased.PC import pc\n",
    "from networkx import DiGraph"
   ]
  },
  {
   "cell_type": "code",
   "execution_count": 80,
   "metadata": {},
   "outputs": [],
   "source": [
    "utils.set_random_seed(1)"
   ]
  },
  {
   "cell_type": "code",
   "execution_count": 81,
   "metadata": {},
   "outputs": [],
   "source": [
    "model = DagmaLinear(loss_type='l2')"
   ]
  },
  {
   "cell_type": "code",
   "execution_count": 82,
   "metadata": {},
   "outputs": [],
   "source": [
    "gt = np.loadtxt('gt.txt', delimiter=' ')"
   ]
  },
  {
   "cell_type": "code",
   "execution_count": 83,
   "metadata": {},
   "outputs": [],
   "source": [
    "d1 = pd.read_csv(\"dataset/low_scrap.csv\")\n",
    "d2 = pd.read_csv(\"dataset/high_scrap.csv\")\n",
    "data = pd.concat([d1, d2], axis=0)\n",
    "\n",
    "stations = data.keys()\n",
    "stations = [station[7:] for station in stations]\n",
    "data.columns = stations\n",
    "station_pairs = [(station.split(\"_\")[0], station.split(\"_\")[2]) for station in stations]\n",
    "\n",
    "# for col in data.columns:\n",
    "#     if np.array_equal(data[col].values, data[col].values.astype(int)):\n",
    "#         continue\n",
    "#     # normalize\n",
    "#     data[col] = (data[col] - data[col].mean()) / data[col].mean()\n",
    "\n",
    "# d = Discretiser(method=\"quantile\", num_buckets=10)\n",
    "# discrete_data = d.fit_transform(data.to_numpy())\n",
    "\n",
    "# data = pd.DataFrame(discrete_data, columns=data.columns)"
   ]
  },
  {
   "cell_type": "code",
   "execution_count": 84,
   "metadata": {},
   "outputs": [],
   "source": [
    "excluded_edges = []\n",
    "for i, s in enumerate(station_pairs):\n",
    "    for j, t in enumerate(station_pairs):\n",
    "        if t[0] < s[0]:\n",
    "            # excluded_edges.append((str(t[0]) + \"_mp_\" + str(t[1]), str(s[0]) + \"_mp_\" + str(s[1])))\n",
    "            excluded_edges.append((i, j))"
   ]
  },
  {
   "cell_type": "code",
   "execution_count": 85,
   "metadata": {},
   "outputs": [],
   "source": [
    "ee_tuple = tuple(excluded_edges)"
   ]
  },
  {
   "cell_type": "code",
   "execution_count": 107,
   "metadata": {},
   "outputs": [
    {
     "data": {
      "application/vnd.jupyter.widget-view+json": {
       "model_id": "65615e368ffb479781f4f6cbbca9be54",
       "version_major": 2,
       "version_minor": 0
      },
      "text/plain": [
       "  0%|          | 0/330000.0 [00:00<?, ?it/s]"
      ]
     },
     "metadata": {},
     "output_type": "display_data"
    }
   ],
   "source": [
    "# for T in range(8, 12, 2):\n",
    "#     for w_thresh in [0.3, 0.35, 0.4, 0.45, 0.5, 0.55]:\n",
    "A = model.fit(data.to_numpy(), exclude_edges=ee_tuple, T=10, w_threshold=0.3)"
   ]
  },
  {
   "cell_type": "code",
   "execution_count": 108,
   "metadata": {},
   "outputs": [],
   "source": [
    "# create networkx graph\n",
    "import networkx as nx\n",
    "import matplotlib.pyplot as plt\n",
    "\n",
    "threshold = 0.0\n",
    "\n",
    "G = nx.DiGraph()\n",
    "G.add_nodes_from(range(len(A)))\n",
    "for i in range(len(A)):\n",
    "    for j in range(len(A)):\n",
    "        if abs(A[i][j]) > threshold:\n",
    "            G.add_edge(i, j, weight=A[i, j])"
   ]
  },
  {
   "cell_type": "code",
   "execution_count": 109,
   "metadata": {},
   "outputs": [],
   "source": [
    "nodes = [GraphNode(station) for station in stations]\n",
    "# dot_graph = draw(graph, name=\"DAG with (z, y) directed edge\")\n",
    "# dot_graph.render(outfile=f\"red.png\", format=\"png\", cleanup=True)\n",
    "\n",
    "bk = BackgroundKnowledge()\n",
    "for s in station_pairs:\n",
    "    bk.add_node_to_tier(nodes[int(s[1])], int(s[0]))\n",
    "\n",
    "for edge in G.edges():\n",
    "    # get indices of the nodes\n",
    "    bk.add_required_by_node(nodes[edge[0]], nodes[edge[1]])"
   ]
  },
  {
   "cell_type": "code",
   "execution_count": 110,
   "metadata": {},
   "outputs": [
    {
     "data": {
      "application/vnd.jupyter.widget-view+json": {
       "model_id": "b881e20a2ccb4b1ca69481b30102969c",
       "version_major": 2,
       "version_minor": 0
      },
      "text/plain": [
       "  0%|          | 0/98 [00:00<?, ?it/s]"
      ]
     },
     "metadata": {},
     "output_type": "display_data"
    }
   ],
   "source": [
    "cg = pc(data.to_numpy(), alpha=0.125, background_knowledge=bk, )"
   ]
  },
  {
   "cell_type": "code",
   "execution_count": 111,
   "metadata": {},
   "outputs": [],
   "source": [
    "Gp = DiGraph()\n",
    "Gp.add_nodes_from(stations)\n",
    "A = np.array(cg.G.graph)\n",
    "for i in range(len(stations)):\n",
    "    for j in range(len(stations)):\n",
    "        if cg.G.graph[i, j] == 1 and not (i,j) in excluded_edges:\n",
    "            Gp.add_edge(stations[i], stations[j])"
   ]
  },
  {
   "cell_type": "code",
   "execution_count": 112,
   "metadata": {},
   "outputs": [
    {
     "data": {
      "text/plain": [
       "'composite.png'"
      ]
     },
     "execution_count": 112,
     "metadata": {},
     "output_type": "execute_result"
    }
   ],
   "source": [
    "dot_graph = draw(Gp, name=\"DAG with (z, y) directed edge\")\n",
    "dot_graph.render(outfile=f\"composite.png\", format=\"png\", cleanup=True)"
   ]
  },
  {
   "cell_type": "code",
   "execution_count": 113,
   "metadata": {},
   "outputs": [],
   "source": [
    "comp = nx.to_numpy_array(Gp)\n",
    "np.savetxt(\"composite.csv\", comp.astype(int), delimiter=\",\")"
   ]
  }
 ],
 "metadata": {
  "kernelspec": {
   "display_name": ".venv",
   "language": "python",
   "name": "python3"
  },
  "language_info": {
   "codemirror_mode": {
    "name": "ipython",
    "version": 3
   },
   "file_extension": ".py",
   "mimetype": "text/x-python",
   "name": "python",
   "nbconvert_exporter": "python",
   "pygments_lexer": "ipython3",
   "version": "3.10.15"
  }
 },
 "nbformat": 4,
 "nbformat_minor": 2
}
