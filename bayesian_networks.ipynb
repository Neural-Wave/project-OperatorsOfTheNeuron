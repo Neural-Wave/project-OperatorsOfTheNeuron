{
 "cells": [
  {
   "cell_type": "code",
   "execution_count": 1,
   "metadata": {},
   "outputs": [],
   "source": [
    "import numpy as np\n",
    "import networkx as nx\n",
    "from scipy import stats\n",
    "import pandas as pd\n",
    "from pywhy_graphs.viz import draw\n",
    "from networkx import ancestors\n",
    "from causalnex.structure import StructureModel"
   ]
  },
  {
   "cell_type": "code",
   "execution_count": 2,
   "metadata": {},
   "outputs": [
    {
     "name": "stderr",
     "output_type": "stream",
     "text": [
      "/Users/vv/project-OperatorsOfTheNeuron/.venv/lib/python3.10/site-packages/tqdm/auto.py:21: TqdmWarning: IProgress not found. Please update jupyter and ipywidgets. See https://ipywidgets.readthedocs.io/en/stable/user_install.html\n",
      "  from .autonotebook import tqdm as notebook_tqdm\n",
      "WARNING:root:MDLP was not imported successfully\n"
     ]
    }
   ],
   "source": [
    "import pandas as pd\n",
    "from pgmpy.base import DAG\n",
    "from pgmpy.models import BayesianNetwork\n",
    "from causalnex.network import BayesianNetwork as CNBayesianNetwork\n",
    "import pgmpy.inference.CausalInference as CI\n",
    "from causalnex.discretiser import Discretiser\n",
    "from causalnex.inference import InferenceEngine"
   ]
  },
  {
   "cell_type": "markdown",
   "metadata": {},
   "source": [
    "#### Parameters"
   ]
  },
  {
   "cell_type": "code",
   "execution_count": 3,
   "metadata": {},
   "outputs": [],
   "source": [
    "n0 = 85\n",
    "n_bins = 5\n",
    "graph_file = \"adj.csv\""
   ]
  },
  {
   "cell_type": "code",
   "execution_count": 4,
   "metadata": {},
   "outputs": [],
   "source": [
    "def cn_from_df(df, sm, m, n_bins, mode='cn'):\n",
    "    ancestor_data = df[m]\n",
    "    m_nodes = [\"n\" + str(i) for i in m]\n",
    "    df = ancestor_data #.iloc[:100, :]\n",
    "    df.columns = m_nodes\n",
    "    bin_means = np.zeros((len(df.columns), n_bins))\n",
    "    for i, col in enumerate(df.columns):\n",
    "        # df.loc[:, col] = p\n",
    "        u, bins = pd.cut(df[col], bins=n_bins, labels=False, retbins=True)\n",
    "        # for i in range(len(bins) - 1):\n",
    "            # df.loc[u == i, col] = bins[i] + (bins[i + 1] - bins[i]) / 2\n",
    "        df.loc[:, col] = u\n",
    "        for b in range(len(bins) - 1):\n",
    "            bin_means[i, b] = bins[b] + (bins[b + 1] - bins[b]) / 2\n",
    "    if mode == 'cn':\n",
    "        cn = CNBayesianNetwork(sm)\n",
    "        cn = cn.fit_node_states_and_cpds(df)\n",
    "        ie = InferenceEngine(cn)\n",
    "        return cn, ie, bin_means\n",
    "    else:\n",
    "        bn = BayesianNetwork(sm)\n",
    "        bn.fit(df)\n",
    "        return bn"
   ]
  },
  {
   "cell_type": "code",
   "execution_count": 5,
   "metadata": {},
   "outputs": [
    {
     "ename": "FileNotFoundError",
     "evalue": "[Errno 2] No such file or directory: 'dataset/low_scrap.csv'",
     "output_type": "error",
     "traceback": [
      "\u001b[0;31m---------------------------------------------------------------------------\u001b[0m",
      "\u001b[0;31mFileNotFoundError\u001b[0m                         Traceback (most recent call last)",
      "Cell \u001b[0;32mIn[5], line 4\u001b[0m\n\u001b[1;32m      1\u001b[0m A \u001b[38;5;241m=\u001b[39m np\u001b[38;5;241m.\u001b[39mloadtxt(graph_file, delimiter\u001b[38;5;241m=\u001b[39m\u001b[38;5;124m\"\u001b[39m\u001b[38;5;124m,\u001b[39m\u001b[38;5;124m\"\u001b[39m)\n\u001b[1;32m      3\u001b[0m \u001b[38;5;66;03m# graph creation\u001b[39;00m\n\u001b[0;32m----> 4\u001b[0m df_low \u001b[38;5;241m=\u001b[39m \u001b[43mpd\u001b[49m\u001b[38;5;241;43m.\u001b[39;49m\u001b[43mread_csv\u001b[49m\u001b[43m(\u001b[49m\u001b[38;5;124;43mf\u001b[39;49m\u001b[38;5;124;43m\"\u001b[39;49m\u001b[38;5;124;43mdataset/low_scrap.csv\u001b[39;49m\u001b[38;5;124;43m\"\u001b[39;49m\u001b[43m)\u001b[49m\n\u001b[1;32m      5\u001b[0m df_high \u001b[38;5;241m=\u001b[39m pd\u001b[38;5;241m.\u001b[39mread_csv(\u001b[38;5;124mf\u001b[39m\u001b[38;5;124m\"\u001b[39m\u001b[38;5;124mdataset/high_scrap.csv\u001b[39m\u001b[38;5;124m\"\u001b[39m)\n\u001b[1;32m      6\u001b[0m df \u001b[38;5;241m=\u001b[39m pd\u001b[38;5;241m.\u001b[39mconcat([df_low, df_high], axis\u001b[38;5;241m=\u001b[39m\u001b[38;5;241m0\u001b[39m)\n",
      "File \u001b[0;32m~/project-OperatorsOfTheNeuron/.venv/lib/python3.10/site-packages/pandas/util/_decorators.py:211\u001b[0m, in \u001b[0;36mdeprecate_kwarg.<locals>._deprecate_kwarg.<locals>.wrapper\u001b[0;34m(*args, **kwargs)\u001b[0m\n\u001b[1;32m    209\u001b[0m     \u001b[38;5;28;01melse\u001b[39;00m:\n\u001b[1;32m    210\u001b[0m         kwargs[new_arg_name] \u001b[38;5;241m=\u001b[39m new_arg_value\n\u001b[0;32m--> 211\u001b[0m \u001b[38;5;28;01mreturn\u001b[39;00m \u001b[43mfunc\u001b[49m\u001b[43m(\u001b[49m\u001b[38;5;241;43m*\u001b[39;49m\u001b[43margs\u001b[49m\u001b[43m,\u001b[49m\u001b[43m \u001b[49m\u001b[38;5;241;43m*\u001b[39;49m\u001b[38;5;241;43m*\u001b[39;49m\u001b[43mkwargs\u001b[49m\u001b[43m)\u001b[49m\n",
      "File \u001b[0;32m~/project-OperatorsOfTheNeuron/.venv/lib/python3.10/site-packages/pandas/util/_decorators.py:331\u001b[0m, in \u001b[0;36mdeprecate_nonkeyword_arguments.<locals>.decorate.<locals>.wrapper\u001b[0;34m(*args, **kwargs)\u001b[0m\n\u001b[1;32m    325\u001b[0m \u001b[38;5;28;01mif\u001b[39;00m \u001b[38;5;28mlen\u001b[39m(args) \u001b[38;5;241m>\u001b[39m num_allow_args:\n\u001b[1;32m    326\u001b[0m     warnings\u001b[38;5;241m.\u001b[39mwarn(\n\u001b[1;32m    327\u001b[0m         msg\u001b[38;5;241m.\u001b[39mformat(arguments\u001b[38;5;241m=\u001b[39m_format_argument_list(allow_args)),\n\u001b[1;32m    328\u001b[0m         \u001b[38;5;167;01mFutureWarning\u001b[39;00m,\n\u001b[1;32m    329\u001b[0m         stacklevel\u001b[38;5;241m=\u001b[39mfind_stack_level(),\n\u001b[1;32m    330\u001b[0m     )\n\u001b[0;32m--> 331\u001b[0m \u001b[38;5;28;01mreturn\u001b[39;00m \u001b[43mfunc\u001b[49m\u001b[43m(\u001b[49m\u001b[38;5;241;43m*\u001b[39;49m\u001b[43margs\u001b[49m\u001b[43m,\u001b[49m\u001b[43m \u001b[49m\u001b[38;5;241;43m*\u001b[39;49m\u001b[38;5;241;43m*\u001b[39;49m\u001b[43mkwargs\u001b[49m\u001b[43m)\u001b[49m\n",
      "File \u001b[0;32m~/project-OperatorsOfTheNeuron/.venv/lib/python3.10/site-packages/pandas/io/parsers/readers.py:950\u001b[0m, in \u001b[0;36mread_csv\u001b[0;34m(filepath_or_buffer, sep, delimiter, header, names, index_col, usecols, squeeze, prefix, mangle_dupe_cols, dtype, engine, converters, true_values, false_values, skipinitialspace, skiprows, skipfooter, nrows, na_values, keep_default_na, na_filter, verbose, skip_blank_lines, parse_dates, infer_datetime_format, keep_date_col, date_parser, dayfirst, cache_dates, iterator, chunksize, compression, thousands, decimal, lineterminator, quotechar, quoting, doublequote, escapechar, comment, encoding, encoding_errors, dialect, error_bad_lines, warn_bad_lines, on_bad_lines, delim_whitespace, low_memory, memory_map, float_precision, storage_options)\u001b[0m\n\u001b[1;32m    935\u001b[0m kwds_defaults \u001b[38;5;241m=\u001b[39m _refine_defaults_read(\n\u001b[1;32m    936\u001b[0m     dialect,\n\u001b[1;32m    937\u001b[0m     delimiter,\n\u001b[0;32m   (...)\u001b[0m\n\u001b[1;32m    946\u001b[0m     defaults\u001b[38;5;241m=\u001b[39m{\u001b[38;5;124m\"\u001b[39m\u001b[38;5;124mdelimiter\u001b[39m\u001b[38;5;124m\"\u001b[39m: \u001b[38;5;124m\"\u001b[39m\u001b[38;5;124m,\u001b[39m\u001b[38;5;124m\"\u001b[39m},\n\u001b[1;32m    947\u001b[0m )\n\u001b[1;32m    948\u001b[0m kwds\u001b[38;5;241m.\u001b[39mupdate(kwds_defaults)\n\u001b[0;32m--> 950\u001b[0m \u001b[38;5;28;01mreturn\u001b[39;00m \u001b[43m_read\u001b[49m\u001b[43m(\u001b[49m\u001b[43mfilepath_or_buffer\u001b[49m\u001b[43m,\u001b[49m\u001b[43m \u001b[49m\u001b[43mkwds\u001b[49m\u001b[43m)\u001b[49m\n",
      "File \u001b[0;32m~/project-OperatorsOfTheNeuron/.venv/lib/python3.10/site-packages/pandas/io/parsers/readers.py:605\u001b[0m, in \u001b[0;36m_read\u001b[0;34m(filepath_or_buffer, kwds)\u001b[0m\n\u001b[1;32m    602\u001b[0m _validate_names(kwds\u001b[38;5;241m.\u001b[39mget(\u001b[38;5;124m\"\u001b[39m\u001b[38;5;124mnames\u001b[39m\u001b[38;5;124m\"\u001b[39m, \u001b[38;5;28;01mNone\u001b[39;00m))\n\u001b[1;32m    604\u001b[0m \u001b[38;5;66;03m# Create the parser.\u001b[39;00m\n\u001b[0;32m--> 605\u001b[0m parser \u001b[38;5;241m=\u001b[39m \u001b[43mTextFileReader\u001b[49m\u001b[43m(\u001b[49m\u001b[43mfilepath_or_buffer\u001b[49m\u001b[43m,\u001b[49m\u001b[43m \u001b[49m\u001b[38;5;241;43m*\u001b[39;49m\u001b[38;5;241;43m*\u001b[39;49m\u001b[43mkwds\u001b[49m\u001b[43m)\u001b[49m\n\u001b[1;32m    607\u001b[0m \u001b[38;5;28;01mif\u001b[39;00m chunksize \u001b[38;5;129;01mor\u001b[39;00m iterator:\n\u001b[1;32m    608\u001b[0m     \u001b[38;5;28;01mreturn\u001b[39;00m parser\n",
      "File \u001b[0;32m~/project-OperatorsOfTheNeuron/.venv/lib/python3.10/site-packages/pandas/io/parsers/readers.py:1442\u001b[0m, in \u001b[0;36mTextFileReader.__init__\u001b[0;34m(self, f, engine, **kwds)\u001b[0m\n\u001b[1;32m   1439\u001b[0m     \u001b[38;5;28mself\u001b[39m\u001b[38;5;241m.\u001b[39moptions[\u001b[38;5;124m\"\u001b[39m\u001b[38;5;124mhas_index_names\u001b[39m\u001b[38;5;124m\"\u001b[39m] \u001b[38;5;241m=\u001b[39m kwds[\u001b[38;5;124m\"\u001b[39m\u001b[38;5;124mhas_index_names\u001b[39m\u001b[38;5;124m\"\u001b[39m]\n\u001b[1;32m   1441\u001b[0m \u001b[38;5;28mself\u001b[39m\u001b[38;5;241m.\u001b[39mhandles: IOHandles \u001b[38;5;241m|\u001b[39m \u001b[38;5;28;01mNone\u001b[39;00m \u001b[38;5;241m=\u001b[39m \u001b[38;5;28;01mNone\u001b[39;00m\n\u001b[0;32m-> 1442\u001b[0m \u001b[38;5;28mself\u001b[39m\u001b[38;5;241m.\u001b[39m_engine \u001b[38;5;241m=\u001b[39m \u001b[38;5;28;43mself\u001b[39;49m\u001b[38;5;241;43m.\u001b[39;49m\u001b[43m_make_engine\u001b[49m\u001b[43m(\u001b[49m\u001b[43mf\u001b[49m\u001b[43m,\u001b[49m\u001b[43m \u001b[49m\u001b[38;5;28;43mself\u001b[39;49m\u001b[38;5;241;43m.\u001b[39;49m\u001b[43mengine\u001b[49m\u001b[43m)\u001b[49m\n",
      "File \u001b[0;32m~/project-OperatorsOfTheNeuron/.venv/lib/python3.10/site-packages/pandas/io/parsers/readers.py:1735\u001b[0m, in \u001b[0;36mTextFileReader._make_engine\u001b[0;34m(self, f, engine)\u001b[0m\n\u001b[1;32m   1733\u001b[0m     \u001b[38;5;28;01mif\u001b[39;00m \u001b[38;5;124m\"\u001b[39m\u001b[38;5;124mb\u001b[39m\u001b[38;5;124m\"\u001b[39m \u001b[38;5;129;01mnot\u001b[39;00m \u001b[38;5;129;01min\u001b[39;00m mode:\n\u001b[1;32m   1734\u001b[0m         mode \u001b[38;5;241m+\u001b[39m\u001b[38;5;241m=\u001b[39m \u001b[38;5;124m\"\u001b[39m\u001b[38;5;124mb\u001b[39m\u001b[38;5;124m\"\u001b[39m\n\u001b[0;32m-> 1735\u001b[0m \u001b[38;5;28mself\u001b[39m\u001b[38;5;241m.\u001b[39mhandles \u001b[38;5;241m=\u001b[39m \u001b[43mget_handle\u001b[49m\u001b[43m(\u001b[49m\n\u001b[1;32m   1736\u001b[0m \u001b[43m    \u001b[49m\u001b[43mf\u001b[49m\u001b[43m,\u001b[49m\n\u001b[1;32m   1737\u001b[0m \u001b[43m    \u001b[49m\u001b[43mmode\u001b[49m\u001b[43m,\u001b[49m\n\u001b[1;32m   1738\u001b[0m \u001b[43m    \u001b[49m\u001b[43mencoding\u001b[49m\u001b[38;5;241;43m=\u001b[39;49m\u001b[38;5;28;43mself\u001b[39;49m\u001b[38;5;241;43m.\u001b[39;49m\u001b[43moptions\u001b[49m\u001b[38;5;241;43m.\u001b[39;49m\u001b[43mget\u001b[49m\u001b[43m(\u001b[49m\u001b[38;5;124;43m\"\u001b[39;49m\u001b[38;5;124;43mencoding\u001b[39;49m\u001b[38;5;124;43m\"\u001b[39;49m\u001b[43m,\u001b[49m\u001b[43m \u001b[49m\u001b[38;5;28;43;01mNone\u001b[39;49;00m\u001b[43m)\u001b[49m\u001b[43m,\u001b[49m\n\u001b[1;32m   1739\u001b[0m \u001b[43m    \u001b[49m\u001b[43mcompression\u001b[49m\u001b[38;5;241;43m=\u001b[39;49m\u001b[38;5;28;43mself\u001b[39;49m\u001b[38;5;241;43m.\u001b[39;49m\u001b[43moptions\u001b[49m\u001b[38;5;241;43m.\u001b[39;49m\u001b[43mget\u001b[49m\u001b[43m(\u001b[49m\u001b[38;5;124;43m\"\u001b[39;49m\u001b[38;5;124;43mcompression\u001b[39;49m\u001b[38;5;124;43m\"\u001b[39;49m\u001b[43m,\u001b[49m\u001b[43m \u001b[49m\u001b[38;5;28;43;01mNone\u001b[39;49;00m\u001b[43m)\u001b[49m\u001b[43m,\u001b[49m\n\u001b[1;32m   1740\u001b[0m \u001b[43m    \u001b[49m\u001b[43mmemory_map\u001b[49m\u001b[38;5;241;43m=\u001b[39;49m\u001b[38;5;28;43mself\u001b[39;49m\u001b[38;5;241;43m.\u001b[39;49m\u001b[43moptions\u001b[49m\u001b[38;5;241;43m.\u001b[39;49m\u001b[43mget\u001b[49m\u001b[43m(\u001b[49m\u001b[38;5;124;43m\"\u001b[39;49m\u001b[38;5;124;43mmemory_map\u001b[39;49m\u001b[38;5;124;43m\"\u001b[39;49m\u001b[43m,\u001b[49m\u001b[43m \u001b[49m\u001b[38;5;28;43;01mFalse\u001b[39;49;00m\u001b[43m)\u001b[49m\u001b[43m,\u001b[49m\n\u001b[1;32m   1741\u001b[0m \u001b[43m    \u001b[49m\u001b[43mis_text\u001b[49m\u001b[38;5;241;43m=\u001b[39;49m\u001b[43mis_text\u001b[49m\u001b[43m,\u001b[49m\n\u001b[1;32m   1742\u001b[0m \u001b[43m    \u001b[49m\u001b[43merrors\u001b[49m\u001b[38;5;241;43m=\u001b[39;49m\u001b[38;5;28;43mself\u001b[39;49m\u001b[38;5;241;43m.\u001b[39;49m\u001b[43moptions\u001b[49m\u001b[38;5;241;43m.\u001b[39;49m\u001b[43mget\u001b[49m\u001b[43m(\u001b[49m\u001b[38;5;124;43m\"\u001b[39;49m\u001b[38;5;124;43mencoding_errors\u001b[39;49m\u001b[38;5;124;43m\"\u001b[39;49m\u001b[43m,\u001b[49m\u001b[43m \u001b[49m\u001b[38;5;124;43m\"\u001b[39;49m\u001b[38;5;124;43mstrict\u001b[39;49m\u001b[38;5;124;43m\"\u001b[39;49m\u001b[43m)\u001b[49m\u001b[43m,\u001b[49m\n\u001b[1;32m   1743\u001b[0m \u001b[43m    \u001b[49m\u001b[43mstorage_options\u001b[49m\u001b[38;5;241;43m=\u001b[39;49m\u001b[38;5;28;43mself\u001b[39;49m\u001b[38;5;241;43m.\u001b[39;49m\u001b[43moptions\u001b[49m\u001b[38;5;241;43m.\u001b[39;49m\u001b[43mget\u001b[49m\u001b[43m(\u001b[49m\u001b[38;5;124;43m\"\u001b[39;49m\u001b[38;5;124;43mstorage_options\u001b[39;49m\u001b[38;5;124;43m\"\u001b[39;49m\u001b[43m,\u001b[49m\u001b[43m \u001b[49m\u001b[38;5;28;43;01mNone\u001b[39;49;00m\u001b[43m)\u001b[49m\u001b[43m,\u001b[49m\n\u001b[1;32m   1744\u001b[0m \u001b[43m\u001b[49m\u001b[43m)\u001b[49m\n\u001b[1;32m   1745\u001b[0m \u001b[38;5;28;01massert\u001b[39;00m \u001b[38;5;28mself\u001b[39m\u001b[38;5;241m.\u001b[39mhandles \u001b[38;5;129;01mis\u001b[39;00m \u001b[38;5;129;01mnot\u001b[39;00m \u001b[38;5;28;01mNone\u001b[39;00m\n\u001b[1;32m   1746\u001b[0m f \u001b[38;5;241m=\u001b[39m \u001b[38;5;28mself\u001b[39m\u001b[38;5;241m.\u001b[39mhandles\u001b[38;5;241m.\u001b[39mhandle\n",
      "File \u001b[0;32m~/project-OperatorsOfTheNeuron/.venv/lib/python3.10/site-packages/pandas/io/common.py:856\u001b[0m, in \u001b[0;36mget_handle\u001b[0;34m(path_or_buf, mode, encoding, compression, memory_map, is_text, errors, storage_options)\u001b[0m\n\u001b[1;32m    851\u001b[0m \u001b[38;5;28;01melif\u001b[39;00m \u001b[38;5;28misinstance\u001b[39m(handle, \u001b[38;5;28mstr\u001b[39m):\n\u001b[1;32m    852\u001b[0m     \u001b[38;5;66;03m# Check whether the filename is to be opened in binary mode.\u001b[39;00m\n\u001b[1;32m    853\u001b[0m     \u001b[38;5;66;03m# Binary mode does not support 'encoding' and 'newline'.\u001b[39;00m\n\u001b[1;32m    854\u001b[0m     \u001b[38;5;28;01mif\u001b[39;00m ioargs\u001b[38;5;241m.\u001b[39mencoding \u001b[38;5;129;01mand\u001b[39;00m \u001b[38;5;124m\"\u001b[39m\u001b[38;5;124mb\u001b[39m\u001b[38;5;124m\"\u001b[39m \u001b[38;5;129;01mnot\u001b[39;00m \u001b[38;5;129;01min\u001b[39;00m ioargs\u001b[38;5;241m.\u001b[39mmode:\n\u001b[1;32m    855\u001b[0m         \u001b[38;5;66;03m# Encoding\u001b[39;00m\n\u001b[0;32m--> 856\u001b[0m         handle \u001b[38;5;241m=\u001b[39m \u001b[38;5;28;43mopen\u001b[39;49m\u001b[43m(\u001b[49m\n\u001b[1;32m    857\u001b[0m \u001b[43m            \u001b[49m\u001b[43mhandle\u001b[49m\u001b[43m,\u001b[49m\n\u001b[1;32m    858\u001b[0m \u001b[43m            \u001b[49m\u001b[43mioargs\u001b[49m\u001b[38;5;241;43m.\u001b[39;49m\u001b[43mmode\u001b[49m\u001b[43m,\u001b[49m\n\u001b[1;32m    859\u001b[0m \u001b[43m            \u001b[49m\u001b[43mencoding\u001b[49m\u001b[38;5;241;43m=\u001b[39;49m\u001b[43mioargs\u001b[49m\u001b[38;5;241;43m.\u001b[39;49m\u001b[43mencoding\u001b[49m\u001b[43m,\u001b[49m\n\u001b[1;32m    860\u001b[0m \u001b[43m            \u001b[49m\u001b[43merrors\u001b[49m\u001b[38;5;241;43m=\u001b[39;49m\u001b[43merrors\u001b[49m\u001b[43m,\u001b[49m\n\u001b[1;32m    861\u001b[0m \u001b[43m            \u001b[49m\u001b[43mnewline\u001b[49m\u001b[38;5;241;43m=\u001b[39;49m\u001b[38;5;124;43m\"\u001b[39;49m\u001b[38;5;124;43m\"\u001b[39;49m\u001b[43m,\u001b[49m\n\u001b[1;32m    862\u001b[0m \u001b[43m        \u001b[49m\u001b[43m)\u001b[49m\n\u001b[1;32m    863\u001b[0m     \u001b[38;5;28;01melse\u001b[39;00m:\n\u001b[1;32m    864\u001b[0m         \u001b[38;5;66;03m# Binary mode\u001b[39;00m\n\u001b[1;32m    865\u001b[0m         handle \u001b[38;5;241m=\u001b[39m \u001b[38;5;28mopen\u001b[39m(handle, ioargs\u001b[38;5;241m.\u001b[39mmode)\n",
      "\u001b[0;31mFileNotFoundError\u001b[0m: [Errno 2] No such file or directory: 'dataset/low_scrap.csv'"
     ]
    }
   ],
   "source": [
    "A = np.loadtxt(graph_file, delimiter=\",\")\n",
    "\n",
    "# graph creation\n",
    "df_low = pd.read_csv(f\"dataset/low_scrap.csv\")\n",
    "df_high = pd.read_csv(f\"dataset/high_scrap.csv\")\n",
    "df = pd.concat([df_low, df_high], axis=0)\n",
    "\n",
    "\n",
    "stations = df.keys()\n",
    "stations = [station[7:] for station in stations]\n",
    "\n",
    "def process_df(df):\n",
    "    df.columns = [str(i) for i in range(len(stations))]\n",
    "\n",
    "process_df(df)\n",
    "G = nx.DiGraph()\n",
    "G.add_nodes_from(range(len(stations)))\n",
    "for i in range(len(stations)):\n",
    "    for j in range(len(stations)):\n",
    "        if A[i, j] == 1:\n",
    "            G.add_edge(i, j)\n",
    "\n",
    "m = list(G.predecessors(n0)) + [n0]\n",
    "m = [str(i) for i in m]\n",
    "\n",
    "dag = DAG()\n",
    "dag.add_node(str(n0))\n",
    "for a in m:\n",
    "    for b in m:\n",
    "        if G.has_edge(int(a), int(b)):\n",
    "            dag.add_edge(str(a), str(b))\n",
    "\n",
    "draw(dag)\n",
    "\n",
    "sm_manual = StructureModel()\n",
    "for e in dag.edges:\n",
    "    sm_manual.add_edges_from(\n",
    "        [\n",
    "            (\"n\" + e[0], \"n\" + e[1])\n",
    "        ]\n",
    "    )"
   ]
  },
  {
   "cell_type": "code",
   "execution_count": 48,
   "metadata": {},
   "outputs": [
    {
     "data": {
      "image/svg+xml": [
       "<?xml version=\"1.0\" encoding=\"UTF-8\" standalone=\"no\"?>\n",
       "<!DOCTYPE svg PUBLIC \"-//W3C//DTD SVG 1.1//EN\"\n",
       " \"http://www.w3.org/Graphics/SVG/1.1/DTD/svg11.dtd\">\n",
       "<!-- Generated by graphviz version 12.1.2 (20240928.0832)\n",
       " -->\n",
       "<!-- Pages: 1 -->\n",
       "<svg width=\"201pt\" height=\"260pt\"\n",
       " viewBox=\"0.00 0.00 201.00 260.00\" xmlns=\"http://www.w3.org/2000/svg\" xmlns:xlink=\"http://www.w3.org/1999/xlink\">\n",
       "<g id=\"graph0\" class=\"graph\" transform=\"scale(1 1) rotate(0) translate(4 256)\">\n",
       "<polygon fill=\"white\" stroke=\"none\" points=\"-4,4 -4,-256 197,-256 197,4 -4,4\"/>\n",
       "<!-- 85 -->\n",
       "<g id=\"node1\" class=\"node\">\n",
       "<title>85</title>\n",
       "<polygon fill=\"none\" stroke=\"black\" points=\"101,-36 65,-36 65,0 101,0 101,-36\"/>\n",
       "<text text-anchor=\"middle\" x=\"83\" y=\"-12.95\" font-family=\"Times,serif\" font-size=\"14.00\">85</text>\n",
       "</g>\n",
       "<!-- 34 -->\n",
       "<g id=\"node2\" class=\"node\">\n",
       "<title>34</title>\n",
       "<polygon fill=\"none\" stroke=\"black\" points=\"36,-252 0,-252 0,-216 36,-216 36,-252\"/>\n",
       "<text text-anchor=\"middle\" x=\"18\" y=\"-228.95\" font-family=\"Times,serif\" font-size=\"14.00\">34</text>\n",
       "</g>\n",
       "<!-- 34&#45;&gt;85 -->\n",
       "<g id=\"edge1\" class=\"edge\">\n",
       "<title>34&#45;&gt;85</title>\n",
       "<path fill=\"none\" stroke=\"blue\" d=\"M19.16,-215.95C21.65,-185.9 29.03,-121.95 49,-72 52.64,-62.91 57.89,-53.69 63.18,-45.55\"/>\n",
       "<polygon fill=\"blue\" stroke=\"blue\" points=\"65.95,-47.71 68.7,-37.48 60.17,-43.75 65.95,-47.71\"/>\n",
       "</g>\n",
       "<!-- 61 -->\n",
       "<g id=\"node3\" class=\"node\">\n",
       "<title>61</title>\n",
       "<polygon fill=\"none\" stroke=\"black\" points=\"82,-180 46,-180 46,-144 82,-144 82,-180\"/>\n",
       "<text text-anchor=\"middle\" x=\"64\" y=\"-156.95\" font-family=\"Times,serif\" font-size=\"14.00\">61</text>\n",
       "</g>\n",
       "<!-- 34&#45;&gt;61 -->\n",
       "<g id=\"edge6\" class=\"edge\">\n",
       "<title>34&#45;&gt;61</title>\n",
       "<path fill=\"none\" stroke=\"blue\" d=\"M29.37,-215.7C34.55,-207.81 40.8,-198.3 46.56,-189.55\"/>\n",
       "<polygon fill=\"blue\" stroke=\"blue\" points=\"49.36,-191.65 51.93,-181.37 43.51,-187.8 49.36,-191.65\"/>\n",
       "</g>\n",
       "<!-- 61&#45;&gt;85 -->\n",
       "<g id=\"edge2\" class=\"edge\">\n",
       "<title>61&#45;&gt;85</title>\n",
       "<path fill=\"none\" stroke=\"blue\" d=\"M59.18,-143.7C54.9,-125.59 50.13,-96.44 56,-72 58.11,-63.2 61.94,-54.22 66.06,-46.21\"/>\n",
       "<polygon fill=\"blue\" stroke=\"blue\" points=\"69.02,-48.1 70.8,-37.66 62.89,-44.71 69.02,-48.1\"/>\n",
       "</g>\n",
       "<!-- 93 -->\n",
       "<g id=\"node6\" class=\"node\">\n",
       "<title>93</title>\n",
       "<polygon fill=\"none\" stroke=\"black\" points=\"101,-108 65,-108 65,-72 101,-72 101,-108\"/>\n",
       "<text text-anchor=\"middle\" x=\"83\" y=\"-84.95\" font-family=\"Times,serif\" font-size=\"14.00\">93</text>\n",
       "</g>\n",
       "<!-- 61&#45;&gt;93 -->\n",
       "<g id=\"edge8\" class=\"edge\">\n",
       "<title>61&#45;&gt;93</title>\n",
       "<path fill=\"none\" stroke=\"blue\" d=\"M68.7,-143.7C70.72,-136.24 73.14,-127.32 75.41,-118.97\"/>\n",
       "<polygon fill=\"blue\" stroke=\"blue\" points=\"78.72,-120.13 77.96,-109.57 71.96,-118.3 78.72,-120.13\"/>\n",
       "</g>\n",
       "<!-- 70 -->\n",
       "<g id=\"node4\" class=\"node\">\n",
       "<title>70</title>\n",
       "<polygon fill=\"none\" stroke=\"black\" points=\"193,-108 157,-108 157,-72 193,-72 193,-108\"/>\n",
       "<text text-anchor=\"middle\" x=\"175\" y=\"-84.95\" font-family=\"Times,serif\" font-size=\"14.00\">70</text>\n",
       "</g>\n",
       "<!-- 70&#45;&gt;85 -->\n",
       "<g id=\"edge3\" class=\"edge\">\n",
       "<title>70&#45;&gt;85</title>\n",
       "<path fill=\"none\" stroke=\"blue\" d=\"M156.82,-75.17C143.55,-65.07 125.34,-51.21 110.32,-39.79\"/>\n",
       "<polygon fill=\"blue\" stroke=\"blue\" points=\"112.74,-37.23 102.66,-33.96 108.5,-42.8 112.74,-37.23\"/>\n",
       "</g>\n",
       "<!-- 74 -->\n",
       "<g id=\"node5\" class=\"node\">\n",
       "<title>74</title>\n",
       "<polygon fill=\"none\" stroke=\"black\" points=\"105,-252 69,-252 69,-216 105,-216 105,-252\"/>\n",
       "<text text-anchor=\"middle\" x=\"87\" y=\"-228.95\" font-family=\"Times,serif\" font-size=\"14.00\">74</text>\n",
       "</g>\n",
       "<!-- 74&#45;&gt;85 -->\n",
       "<g id=\"edge4\" class=\"edge\">\n",
       "<title>74&#45;&gt;85</title>\n",
       "<path fill=\"none\" stroke=\"blue\" d=\"M93.63,-215.88C104.18,-186.25 122.39,-123.62 110,-72 107.89,-63.2 104.06,-54.22 99.94,-46.21\"/>\n",
       "<polygon fill=\"blue\" stroke=\"blue\" points=\"103.11,-44.71 95.2,-37.66 96.98,-48.1 103.11,-44.71\"/>\n",
       "</g>\n",
       "<!-- 74&#45;&gt;61 -->\n",
       "<g id=\"edge7\" class=\"edge\">\n",
       "<title>74&#45;&gt;61</title>\n",
       "<path fill=\"none\" stroke=\"blue\" d=\"M81.31,-215.7C78.86,-208.24 75.93,-199.32 73.19,-190.97\"/>\n",
       "<polygon fill=\"blue\" stroke=\"blue\" points=\"76.54,-189.95 70.09,-181.54 69.89,-192.14 76.54,-189.95\"/>\n",
       "</g>\n",
       "<!-- 93&#45;&gt;85 -->\n",
       "<g id=\"edge5\" class=\"edge\">\n",
       "<title>93&#45;&gt;85</title>\n",
       "<path fill=\"none\" stroke=\"blue\" d=\"M83,-71.7C83,-64.41 83,-55.73 83,-47.54\"/>\n",
       "<polygon fill=\"blue\" stroke=\"blue\" points=\"86.5,-47.62 83,-37.62 79.5,-47.62 86.5,-47.62\"/>\n",
       "</g>\n",
       "</g>\n",
       "</svg>\n"
      ],
      "text/plain": [
       "<graphviz.graphs.Digraph at 0x37b713d90>"
      ]
     },
     "execution_count": 48,
     "metadata": {},
     "output_type": "execute_result"
    }
   ],
   "source": [
    "draw(dag)"
   ]
  },
  {
   "cell_type": "code",
   "execution_count": 49,
   "metadata": {},
   "outputs": [
    {
     "name": "stderr",
     "output_type": "stream",
     "text": [
      "/var/folders/wr/gb48q8ld1zs6d76c1nzvz68w0000gn/T/ipykernel_89383/2313523576.py:12: SettingWithCopyWarning: \n",
      "A value is trying to be set on a copy of a slice from a DataFrame.\n",
      "Try using .loc[row_indexer,col_indexer] = value instead\n",
      "\n",
      "See the caveats in the documentation: https://pandas.pydata.org/pandas-docs/stable/user_guide/indexing.html#returning-a-view-versus-a-copy\n",
      "  df.loc[:, col] = u\n",
      "/var/folders/wr/gb48q8ld1zs6d76c1nzvz68w0000gn/T/ipykernel_89383/2313523576.py:12: DeprecationWarning: In a future version, `df.iloc[:, i] = newvals` will attempt to set the values inplace instead of always setting a new array. To retain the old behavior, use either `df[df.columns[i]] = newvals` or, if columns are non-unique, `df.isetitem(i, newvals)`\n",
      "  df.loc[:, col] = u\n",
      "/var/folders/wr/gb48q8ld1zs6d76c1nzvz68w0000gn/T/ipykernel_89383/2313523576.py:12: SettingWithCopyWarning: \n",
      "A value is trying to be set on a copy of a slice from a DataFrame.\n",
      "Try using .loc[row_indexer,col_indexer] = value instead\n",
      "\n",
      "See the caveats in the documentation: https://pandas.pydata.org/pandas-docs/stable/user_guide/indexing.html#returning-a-view-versus-a-copy\n",
      "  df.loc[:, col] = u\n",
      "/var/folders/wr/gb48q8ld1zs6d76c1nzvz68w0000gn/T/ipykernel_89383/2313523576.py:12: DeprecationWarning: In a future version, `df.iloc[:, i] = newvals` will attempt to set the values inplace instead of always setting a new array. To retain the old behavior, use either `df[df.columns[i]] = newvals` or, if columns are non-unique, `df.isetitem(i, newvals)`\n",
      "  df.loc[:, col] = u\n"
     ]
    }
   ],
   "source": [
    "process_df(df_low)\n",
    "process_df(df_high)\n",
    "\n",
    "cn_low, ie_low, bm_low = cn_from_df(df_low, sm_manual, m, n_bins)\n",
    "cn_high, ie_high, bm_high = cn_from_df(df_high, sm_manual, m, n_bins)\n",
    "\n",
    "m_strings = ['n' + str(i) for i in m]"
   ]
  },
  {
   "cell_type": "code",
   "execution_count": 50,
   "metadata": {},
   "outputs": [],
   "source": [
    "def marginals(id):\n",
    "    return ie_low.query()[id], ie_high.query()[id]"
   ]
  },
  {
   "cell_type": "code",
   "execution_count": 51,
   "metadata": {},
   "outputs": [
    {
     "name": "stdout",
     "output_type": "stream",
     "text": [
      "n34\n",
      "({0: 0.06120000000000033, 1: 0.32960000000000034, 2: 0.42439999999999944, 3: 0.12639999999999982, 4: 0.05840000000000017}, {0: 0.038000000000000034, 1: 0.36840000000000034, 2: 0.45400000000000057, 3: 0.08719999999999993, 4: 0.05240000000000007})\n",
      "n61\n",
      "({0: 0.03548535211040337, 1: 0.3525734820454874, 2: 0.2228114929071739, 3: 0.30100710094500427, 4: 0.08812257199192974}, {0: 0.09198561821876232, 1: 0.4087698130640975, 2: 0.08708957192872406, 3: 0.3227272215807336, 4: 0.0894277752076826})\n",
      "n70\n",
      "({0: 0.02279999999999992, 1: 0.274399999999999, 2: 0.3047999999999994, 3: 0.31639999999999907, 4: 0.08159999999999976}, {0: 0.02879999999999996, 1: 0.25920000000000004, 2: 0.29200000000000004, 3: 0.34200000000000036, 4: 0.07800000000000008})\n",
      "n74\n",
      "({0: 0.04759999999999992, 1: 0.3628000000000007, 2: 0.19080000000000039, 3: 0.2979999999999997, 4: 0.10079999999999993}, {0: 0.0696000000000002, 1: 0.4043999999999987, 2: 0.10959999999999998, 3: 0.31159999999999927, 4: 0.10479999999999945})\n",
      "n93\n",
      "({0: 0.02118874417229589, 1: 0.30521029702081437, 2: 0.5243791363401845, 3: 0.13562180849054972, 4: 0.01360001397615676}, {0: 0.05680111904172749, 1: 0.3867727475874824, 2: 0.4412257286777459, 3: 0.10159547993097744, 4: 0.013604924762065373})\n",
      "n85\n",
      "({0: 0.036573902530408015, 1: 0.17359008665563322, 2: 0.26010398035031734, 3: 0.3920671847218786, 4: 0.13766484574176227}, {0: 0.04203959431384682, 1: 0.12196092589389777, 2: 0.30144012368631323, 3: 0.45769085033006707, 4: 0.07686850577587409})\n"
     ]
    }
   ],
   "source": [
    "for m in m_strings:\n",
    "    print(m)\n",
    "    print(marginals(m))"
   ]
  },
  {
   "cell_type": "code",
   "execution_count": 18,
   "metadata": {},
   "outputs": [
    {
     "ename": "NameError",
     "evalue": "name 'ie' is not defined",
     "output_type": "error",
     "traceback": [
      "\u001b[0;31m---------------------------------------------------------------------------\u001b[0m",
      "\u001b[0;31mNameError\u001b[0m                                 Traceback (most recent call last)",
      "Cell \u001b[0;32mIn[18], line 1\u001b[0m\n\u001b[0;32m----> 1\u001b[0m \u001b[43mie\u001b[49m\u001b[38;5;241m.\u001b[39mdo_intervention(\u001b[38;5;124m\"\u001b[39m\u001b[38;5;124mn28\u001b[39m\u001b[38;5;124m\"\u001b[39m, \u001b[38;5;241m0\u001b[39m)\n\u001b[1;32m      2\u001b[0m ie\u001b[38;5;241m.\u001b[39mdo_intervention(\u001b[38;5;124m\"\u001b[39m\u001b[38;5;124mn13\u001b[39m\u001b[38;5;124m\"\u001b[39m, \u001b[38;5;241m0\u001b[39m)\n\u001b[1;32m      3\u001b[0m q \u001b[38;5;241m=\u001b[39m ie\u001b[38;5;241m.\u001b[39mquery()\n",
      "\u001b[0;31mNameError\u001b[0m: name 'ie' is not defined"
     ]
    }
   ],
   "source": [
    "ie.do_intervention(\"n28\", 0)\n",
    "ie.do_intervention(\"n13\", 0)\n",
    "q = ie.query()\n",
    "for key in q.keys():\n",
    "    print(key)\n",
    "    for k, v in q[key].items():\n",
    "        print(bin_means[m.index(key[1:]), k], v)"
   ]
  }
 ],
 "metadata": {
  "kernelspec": {
   "display_name": ".venv",
   "language": "python",
   "name": "python3"
  },
  "language_info": {
   "codemirror_mode": {
    "name": "ipython",
    "version": 3
   },
   "file_extension": ".py",
   "mimetype": "text/x-python",
   "name": "python",
   "nbconvert_exporter": "python",
   "pygments_lexer": "ipython3",
   "version": "3.10.15"
  }
 },
 "nbformat": 4,
 "nbformat_minor": 2
}
